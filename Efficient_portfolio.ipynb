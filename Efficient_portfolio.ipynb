{
  "nbformat": 4,
  "nbformat_minor": 0,
  "metadata": {
    "colab": {
      "name": "Efficient portfolio.ipynb",
      "provenance": [],
      "collapsed_sections": []
    },
    "kernelspec": {
      "name": "python3",
      "display_name": "Python 3"
    }
  },
  "cells": [
    {
      "cell_type": "code",
      "metadata": {
        "id": "AfZ1SuCU8jFk",
        "colab_type": "code",
        "colab": {}
      },
      "source": [
        "#Optimistising Portfolio of User"
      ],
      "execution_count": 0,
      "outputs": []
    },
    {
      "cell_type": "code",
      "metadata": {
        "id": "XlXKpZZI8uI8",
        "colab_type": "code",
        "colab": {}
      },
      "source": [
        "#import Libraries for Project\n",
        "from pandas_datareader import data as web\n",
        "import pandas as pd\n",
        "import numpy as np\n",
        "from datetime import datetime\n",
        "import matplotlib.pyplot as plt\n",
        "plt.style.use('fivethirtyeight')"
      ],
      "execution_count": 0,
      "outputs": []
    },
    {
      "cell_type": "code",
      "metadata": {
        "id": "787zsvM69NxV",
        "colab_type": "code",
        "colab": {}
      },
      "source": [
        "# getting the fang stocks\n",
        "assets = ['FB', 'AMZN', 'AAPL', 'NFLX', 'GOOG']\n"
      ],
      "execution_count": 0,
      "outputs": []
    },
    {
      "cell_type": "code",
      "metadata": {
        "id": "UfCseiGy9dB5",
        "colab_type": "code",
        "outputId": "c8302558-bbc2-4a10-c0f5-2cfb676434c9",
        "colab": {
          "base_uri": "https://localhost:8080/",
          "height": 34
        }
      },
      "source": [
        "# assign weightage to stocks\n",
        "weights = np.array([0.2, 0.2,0.2, 0.2,0.2])\n",
        "# getting stocks start date\n",
        "stockStartDate = '2013-01-01' # first full year for FB\n",
        "# getting the ending date\n",
        "stockEndingDate = datetime.today().strftime('%Y-%m-%d')\n",
        "today = stockEndingDate\n",
        "today"
      ],
      "execution_count": 0,
      "outputs": [
        {
          "output_type": "execute_result",
          "data": {
            "text/plain": [
              "'2020-06-13'"
            ]
          },
          "metadata": {
            "tags": []
          },
          "execution_count": 39
        }
      ]
    },
    {
      "cell_type": "code",
      "metadata": {
        "id": "ue75YalE-J5p",
        "colab_type": "code",
        "outputId": "c45dc4b9-62a6-4e03-91b2-b78422ca48e3",
        "colab": {
          "base_uri": "https://localhost:8080/",
          "height": 444
        }
      },
      "source": [
        "#Create a data frame to store the adjusted  close price\n",
        "df = pd.DataFrame()\n",
        "\n",
        "# storing the adjusted close price into the dataframe\n",
        "for stock in assets:\n",
        "  df[stock] = web.DataReader(stock,data_source='yahoo', start = stockStartDate, end = today) ['Adj Close']\n",
        "df"
      ],
      "execution_count": 0,
      "outputs": [
        {
          "output_type": "execute_result",
          "data": {
            "text/html": [
              "<div>\n",
              "<style scoped>\n",
              "    .dataframe tbody tr th:only-of-type {\n",
              "        vertical-align: middle;\n",
              "    }\n",
              "\n",
              "    .dataframe tbody tr th {\n",
              "        vertical-align: top;\n",
              "    }\n",
              "\n",
              "    .dataframe thead th {\n",
              "        text-align: right;\n",
              "    }\n",
              "</style>\n",
              "<table border=\"1\" class=\"dataframe\">\n",
              "  <thead>\n",
              "    <tr style=\"text-align: right;\">\n",
              "      <th></th>\n",
              "      <th>FB</th>\n",
              "      <th>AMZN</th>\n",
              "      <th>AAPL</th>\n",
              "      <th>NFLX</th>\n",
              "      <th>GOOG</th>\n",
              "    </tr>\n",
              "    <tr>\n",
              "      <th>Date</th>\n",
              "      <th></th>\n",
              "      <th></th>\n",
              "      <th></th>\n",
              "      <th></th>\n",
              "      <th></th>\n",
              "    </tr>\n",
              "  </thead>\n",
              "  <tbody>\n",
              "    <tr>\n",
              "      <th>2013-01-02</th>\n",
              "      <td>28.000000</td>\n",
              "      <td>257.309998</td>\n",
              "      <td>68.502106</td>\n",
              "      <td>13.144286</td>\n",
              "      <td>360.274597</td>\n",
              "    </tr>\n",
              "    <tr>\n",
              "      <th>2013-01-03</th>\n",
              "      <td>27.770000</td>\n",
              "      <td>258.480011</td>\n",
              "      <td>67.637436</td>\n",
              "      <td>13.798572</td>\n",
              "      <td>360.483826</td>\n",
              "    </tr>\n",
              "    <tr>\n",
              "      <th>2013-01-04</th>\n",
              "      <td>28.760000</td>\n",
              "      <td>259.149994</td>\n",
              "      <td>65.753418</td>\n",
              "      <td>13.711429</td>\n",
              "      <td>367.607117</td>\n",
              "    </tr>\n",
              "    <tr>\n",
              "      <th>2013-01-07</th>\n",
              "      <td>29.420000</td>\n",
              "      <td>268.459991</td>\n",
              "      <td>65.366646</td>\n",
              "      <td>14.171429</td>\n",
              "      <td>366.003143</td>\n",
              "    </tr>\n",
              "    <tr>\n",
              "      <th>2013-01-08</th>\n",
              "      <td>29.059999</td>\n",
              "      <td>266.380005</td>\n",
              "      <td>65.542587</td>\n",
              "      <td>13.880000</td>\n",
              "      <td>365.280823</td>\n",
              "    </tr>\n",
              "    <tr>\n",
              "      <th>...</th>\n",
              "      <td>...</td>\n",
              "      <td>...</td>\n",
              "      <td>...</td>\n",
              "      <td>...</td>\n",
              "      <td>...</td>\n",
              "    </tr>\n",
              "    <tr>\n",
              "      <th>2020-06-08</th>\n",
              "      <td>231.399994</td>\n",
              "      <td>2524.060059</td>\n",
              "      <td>333.459991</td>\n",
              "      <td>419.489990</td>\n",
              "      <td>1446.609985</td>\n",
              "    </tr>\n",
              "    <tr>\n",
              "      <th>2020-06-09</th>\n",
              "      <td>238.669998</td>\n",
              "      <td>2600.860107</td>\n",
              "      <td>343.989990</td>\n",
              "      <td>434.049988</td>\n",
              "      <td>1456.160034</td>\n",
              "    </tr>\n",
              "    <tr>\n",
              "      <th>2020-06-10</th>\n",
              "      <td>236.729996</td>\n",
              "      <td>2647.449951</td>\n",
              "      <td>352.839996</td>\n",
              "      <td>434.480011</td>\n",
              "      <td>1465.849976</td>\n",
              "    </tr>\n",
              "    <tr>\n",
              "      <th>2020-06-11</th>\n",
              "      <td>224.429993</td>\n",
              "      <td>2557.959961</td>\n",
              "      <td>335.899994</td>\n",
              "      <td>425.559998</td>\n",
              "      <td>1403.839966</td>\n",
              "    </tr>\n",
              "    <tr>\n",
              "      <th>2020-06-12</th>\n",
              "      <td>228.580002</td>\n",
              "      <td>2545.020020</td>\n",
              "      <td>338.799988</td>\n",
              "      <td>418.070007</td>\n",
              "      <td>1413.180054</td>\n",
              "    </tr>\n",
              "  </tbody>\n",
              "</table>\n",
              "<p>1875 rows × 5 columns</p>\n",
              "</div>"
            ],
            "text/plain": [
              "                    FB         AMZN        AAPL        NFLX         GOOG\n",
              "Date                                                                    \n",
              "2013-01-02   28.000000   257.309998   68.502106   13.144286   360.274597\n",
              "2013-01-03   27.770000   258.480011   67.637436   13.798572   360.483826\n",
              "2013-01-04   28.760000   259.149994   65.753418   13.711429   367.607117\n",
              "2013-01-07   29.420000   268.459991   65.366646   14.171429   366.003143\n",
              "2013-01-08   29.059999   266.380005   65.542587   13.880000   365.280823\n",
              "...                ...          ...         ...         ...          ...\n",
              "2020-06-08  231.399994  2524.060059  333.459991  419.489990  1446.609985\n",
              "2020-06-09  238.669998  2600.860107  343.989990  434.049988  1456.160034\n",
              "2020-06-10  236.729996  2647.449951  352.839996  434.480011  1465.849976\n",
              "2020-06-11  224.429993  2557.959961  335.899994  425.559998  1403.839966\n",
              "2020-06-12  228.580002  2545.020020  338.799988  418.070007  1413.180054\n",
              "\n",
              "[1875 rows x 5 columns]"
            ]
          },
          "metadata": {
            "tags": []
          },
          "execution_count": 40
        }
      ]
    },
    {
      "cell_type": "code",
      "metadata": {
        "id": "VvJtkeY3DnGv",
        "colab_type": "code",
        "outputId": "13f49159-2664-4e98-f0d8-607e345511a0",
        "colab": {
          "base_uri": "https://localhost:8080/",
          "height": 325
        }
      },
      "source": [
        "#visualise the portfolio\n",
        "title = \"Portfolio Adj.Close Price History\"\n",
        "\n",
        "my_stocks = df\n",
        "\n",
        "#Create and plot graph\n",
        "for c in my_stocks.columns.values:\n",
        "  plt.plot(my_stocks[c], label = c)\n",
        "\n",
        "plt.title (title)\n",
        "plt.xlabel(\"Date\")\n",
        "plt.ylabel('Adi.Price USD($)')\n",
        "plt.legend(my_stocks.columns.values, loc = 'upper left')\n",
        "plt.show()"
      ],
      "execution_count": 0,
      "outputs": [
        {
          "output_type": "display_data",
          "data": {
            "image/png": "[encoded data removed]",
            "text/plain": [
              "<Figure size 432x288 with 1 Axes>"
            ]
          },
          "metadata": {
            "tags": []
          }
        }
      ]
    },
    {
      "cell_type": "code",
      "metadata": {
        "id": "LElwdDo5L6ve",
        "colab_type": "code",
        "outputId": "af52add4-f899-400b-a156-c065b3a099d7",
        "colab": {
          "base_uri": "https://localhost:8080/",
          "height": 201
        }
      },
      "source": [
        "#show the daily simple returns\n",
        "returns = df.pct_change()\n",
        "returns\n",
        "\n",
        "#create and show annualized Cpvariance matrixc\n",
        "cov_matrix_annual = returns.cov()* 252\n",
        "cov_matrix_annual"
      ],
      "execution_count": 0,
      "outputs": [
        {
          "output_type": "execute_result",
          "data": {
            "text/html": [
              "<div>\n",
              "<style scoped>\n",
              "    .dataframe tbody tr th:only-of-type {\n",
              "        vertical-align: middle;\n",
              "    }\n",
              "\n",
              "    .dataframe tbody tr th {\n",
              "        vertical-align: top;\n",
              "    }\n",
              "\n",
              "    .dataframe thead th {\n",
              "        text-align: right;\n",
              "    }\n",
              "</style>\n",
              "<table border=\"1\" class=\"dataframe\">\n",
              "  <thead>\n",
              "    <tr style=\"text-align: right;\">\n",
              "      <th></th>\n",
              "      <th>FB</th>\n",
              "      <th>AMZN</th>\n",
              "      <th>AAPL</th>\n",
              "      <th>NFLX</th>\n",
              "      <th>GOOG</th>\n",
              "    </tr>\n",
              "  </thead>\n",
              "  <tbody>\n",
              "    <tr>\n",
              "      <th>FB</th>\n",
              "      <td>0.116145</td>\n",
              "      <td>0.051889</td>\n",
              "      <td>0.040852</td>\n",
              "      <td>0.053858</td>\n",
              "      <td>0.048586</td>\n",
              "    </tr>\n",
              "    <tr>\n",
              "      <th>AMZN</th>\n",
              "      <td>0.051889</td>\n",
              "      <td>0.091627</td>\n",
              "      <td>0.035690</td>\n",
              "      <td>0.060967</td>\n",
              "      <td>0.046446</td>\n",
              "    </tr>\n",
              "    <tr>\n",
              "      <th>AAPL</th>\n",
              "      <td>0.040852</td>\n",
              "      <td>0.035690</td>\n",
              "      <td>0.076573</td>\n",
              "      <td>0.031777</td>\n",
              "      <td>0.037347</td>\n",
              "    </tr>\n",
              "    <tr>\n",
              "      <th>NFLX</th>\n",
              "      <td>0.053858</td>\n",
              "      <td>0.060967</td>\n",
              "      <td>0.031777</td>\n",
              "      <td>0.212498</td>\n",
              "      <td>0.048533</td>\n",
              "    </tr>\n",
              "    <tr>\n",
              "      <th>GOOG</th>\n",
              "      <td>0.048586</td>\n",
              "      <td>0.046446</td>\n",
              "      <td>0.037347</td>\n",
              "      <td>0.048533</td>\n",
              "      <td>0.064766</td>\n",
              "    </tr>\n",
              "  </tbody>\n",
              "</table>\n",
              "</div>"
            ],
            "text/plain": [
              "            FB      AMZN      AAPL      NFLX      GOOG\n",
              "FB    0.116145  0.051889  0.040852  0.053858  0.048586\n",
              "AMZN  0.051889  0.091627  0.035690  0.060967  0.046446\n",
              "AAPL  0.040852  0.035690  0.076573  0.031777  0.037347\n",
              "NFLX  0.053858  0.060967  0.031777  0.212498  0.048533\n",
              "GOOG  0.048586  0.046446  0.037347  0.048533  0.064766"
            ]
          },
          "metadata": {
            "tags": []
          },
          "execution_count": 42
        }
      ]
    },
    {
      "cell_type": "code",
      "metadata": {
        "id": "poIIN9NeTnhf",
        "colab_type": "code",
        "outputId": "ab13f2a1-8886-46d0-f016-4ed7b84dd05a",
        "colab": {
          "base_uri": "https://localhost:8080/",
          "height": 34
        }
      },
      "source": [
        "# calculate portfolio variance\n",
        "port_variance = np.dot (weights.T, np.dot(cov_matrix_annual, weights))\n",
        "port_variance"
      ],
      "execution_count": 0,
      "outputs": [
        {
          "output_type": "execute_result",
          "data": {
            "text/plain": [
              "0.058939930314422524"
            ]
          },
          "metadata": {
            "tags": []
          },
          "execution_count": 43
        }
      ]
    },
    {
      "cell_type": "code",
      "metadata": {
        "id": "HFzkJ1NMU6yh",
        "colab_type": "code",
        "outputId": "1befe7a4-0ab6-49f2-8116-d8f70568dc61",
        "colab": {
          "base_uri": "https://localhost:8080/",
          "height": 34
        }
      },
      "source": [
        "#calculate portfolio volatility\n",
        "port_volatility = np.sqrt(port_variance)\n",
        "port_volatility"
      ],
      "execution_count": 0,
      "outputs": [
        {
          "output_type": "execute_result",
          "data": {
            "text/plain": [
              "0.24277547304952887"
            ]
          },
          "metadata": {
            "tags": []
          },
          "execution_count": 44
        }
      ]
    },
    {
      "cell_type": "code",
      "metadata": {
        "id": "aDgLZAW3VYGa",
        "colab_type": "code",
        "outputId": "ed451140-336a-4e17-b872-e68c0ab10245",
        "colab": {
          "base_uri": "https://localhost:8080/",
          "height": 34
        }
      },
      "source": [
        "portfolioSimpleAunnualReturn = np.sum(returns.mean() * weights) * 252\n",
        "portfolioSimpleAunnualReturn"
      ],
      "execution_count": 0,
      "outputs": [
        {
          "output_type": "execute_result",
          "data": {
            "text/plain": [
              "0.34623258300951887"
            ]
          },
          "metadata": {
            "tags": []
          },
          "execution_count": 45
        }
      ]
    },
    {
      "cell_type": "code",
      "metadata": {
        "id": "-w_09sCQVlTO",
        "colab_type": "code",
        "outputId": "bb53ae0b-37b2-446b-ddb9-36798c0d25ad",
        "colab": {
          "base_uri": "https://localhost:8080/",
          "height": 67
        }
      },
      "source": [
        "#show annual return, volatility and variance\n",
        "percent_var = str(round(port_variance,2)* 100) + '%'\n",
        "percent_vols =  str(round(port_volatility,2) *100 ) + '%'\n",
        "percent_return = str (round ( portfolioSimpleAunnualReturn,2 ) * 100) +'%'\n",
        "print ('Expected Annual ReturnL ' + percent_return)\n",
        "print ('Annual volatility : ' + percent_vols)\n",
        "print ('Annual variance: ' + percent_var)\n",
        "\n"
      ],
      "execution_count": 0,
      "outputs": [
        {
          "output_type": "stream",
          "text": [
            "Expected Annual ReturnL 35.0%\n",
            "Annual volatility : 24.0%\n",
            "Annual variance: 6.0%\n"
          ],
          "name": "stdout"
        }
      ]
    },
    {
      "cell_type": "code",
      "metadata": {
        "id": "ZSDZr1jjvM88",
        "colab_type": "code",
        "outputId": "d9f60621-6909-4843-efbc-631d1fbfdb60",
        "colab": {
          "base_uri": "https://localhost:8080/",
          "height": 67
        }
      },
      "source": [
        "PR = percent_return\n",
        "PVO = percent_vols\n",
        "PVA = percent_var\n",
        "print ('Expected Annual ReturnL ' + PR)\n",
        "print ('Annual volatility : ' + PVO)\n",
        "print ('Annual variance: ' + PVA)"
      ],
      "execution_count": 0,
      "outputs": [
        {
          "output_type": "stream",
          "text": [
            "Expected Annual ReturnL 35.0%\n",
            "Annual volatility : 24.0%\n",
            "Annual variance: 6.0%\n"
          ],
          "name": "stdout"
        }
      ]
    },
    {
      "cell_type": "code",
      "metadata": {
        "id": "d36fwMyYqbn3",
        "colab_type": "code",
        "outputId": "d94f07e7-8af5-4e42-c866-86ff53bfee35",
        "colab": {
          "base_uri": "https://localhost:8080/",
          "height": 273
        }
      },
      "source": [
        "pip install PyPortfolioOpt\n"
      ],
      "execution_count": 0,
      "outputs": [
        {
          "output_type": "stream",
          "text": [
            "Requirement already satisfied: PyPortfolioOpt in /usr/local/lib/python3.6/dist-packages (1.2.3)\n",
            "Requirement already satisfied: pandas>=0.19 in /usr/local/lib/python3.6/dist-packages (from PyPortfolioOpt) (1.0.4)\n",
            "Requirement already satisfied: cvxpy<1.1,>=1.0 in /usr/local/lib/python3.6/dist-packages (from PyPortfolioOpt) (1.0.31)\n",
            "Requirement already satisfied: scipy<2.0,>=1.3 in /usr/local/lib/python3.6/dist-packages (from PyPortfolioOpt) (1.4.1)\n",
            "Requirement already satisfied: numpy<2.0,>=1.12 in /usr/local/lib/python3.6/dist-packages (from PyPortfolioOpt) (1.18.5)\n",
            "Requirement already satisfied: pytz>=2017.2 in /usr/local/lib/python3.6/dist-packages (from pandas>=0.19->PyPortfolioOpt) (2018.9)\n",
            "Requirement already satisfied: python-dateutil>=2.6.1 in /usr/local/lib/python3.6/dist-packages (from pandas>=0.19->PyPortfolioOpt) (2.8.1)\n",
            "Requirement already satisfied: scs>=1.1.3 in /usr/local/lib/python3.6/dist-packages (from cvxpy<1.1,>=1.0->PyPortfolioOpt) (2.1.2)\n",
            "Requirement already satisfied: multiprocess in /usr/local/lib/python3.6/dist-packages (from cvxpy<1.1,>=1.0->PyPortfolioOpt) (0.70.9)\n",
            "Requirement already satisfied: ecos>=2 in /usr/local/lib/python3.6/dist-packages (from cvxpy<1.1,>=1.0->PyPortfolioOpt) (2.0.7.post1)\n",
            "Requirement already satisfied: osqp>=0.4.1 in /usr/local/lib/python3.6/dist-packages (from cvxpy<1.1,>=1.0->PyPortfolioOpt) (0.6.1)\n",
            "Requirement already satisfied: six>=1.5 in /usr/local/lib/python3.6/dist-packages (from python-dateutil>=2.6.1->pandas>=0.19->PyPortfolioOpt) (1.12.0)\n",
            "Requirement already satisfied: dill>=0.3.1 in /usr/local/lib/python3.6/dist-packages (from multiprocess->cvxpy<1.1,>=1.0->PyPortfolioOpt) (0.3.1.1)\n",
            "Requirement already satisfied: future in /usr/local/lib/python3.6/dist-packages (from osqp>=0.4.1->cvxpy<1.1,>=1.0->PyPortfolioOpt) (0.16.0)\n"
          ],
          "name": "stdout"
        }
      ]
    },
    {
      "cell_type": "code",
      "metadata": {
        "id": "j0tguEFsqjYX",
        "colab_type": "code",
        "colab": {}
      },
      "source": [
        "from pypfopt.efficient_frontier import EfficientFrontier \n",
        "from pypfopt import risk_models\n",
        "from pypfopt import expected_returns"
      ],
      "execution_count": 0,
      "outputs": []
    },
    {
      "cell_type": "code",
      "metadata": {
        "id": "sNc_HpAjq4n7",
        "colab_type": "code",
        "outputId": "bf6ed1b3-13de-41d5-f306-5ebaa4dc888a",
        "colab": {
          "base_uri": "https://localhost:8080/",
          "height": 54
        }
      },
      "source": [
        "# optimise portfolio\n",
        "\n",
        "# calculate expected returns and annualise covariance matrix of assets\n",
        "mu = expected_returns.mean_historical_return(df)\n",
        "S = risk_models.sample_cov(df)\n",
        "\n",
        "# sharpe ratio optimisation\n",
        "ef = EfficientFrontier(mu, S)\n",
        "weights = ef.max_sharpe()\n",
        "clean_weights = ef.clean_weights()\n",
        "print (clean_weights)"
      ],
      "execution_count": 0,
      "outputs": [
        {
          "output_type": "stream",
          "text": [
            "OrderedDict([('FB', 0.15934), ('AMZN', 0.29403), ('AAPL', 0.21683), ('NFLX', 0.3298), ('GOOG', 0.0)])\n"
          ],
          "name": "stdout"
        }
      ]
    },
    {
      "cell_type": "code",
      "metadata": {
        "id": "yGWiffXquYgv",
        "colab_type": "code",
        "outputId": "c0cad57f-ef7f-4afc-81aa-b705174a3682",
        "colab": {
          "base_uri": "https://localhost:8080/",
          "height": 84
        }
      },
      "source": [
        "ef.portfolio_performance(verbose = True)"
      ],
      "execution_count": 0,
      "outputs": [
        {
          "output_type": "stream",
          "text": [
            "Expected annual return: 40.1%\n",
            "Annual volatility: 26.8%\n",
            "Sharpe Ratio: 1.42\n"
          ],
          "name": "stdout"
        },
        {
          "output_type": "execute_result",
          "data": {
            "text/plain": [
              "(0.40050189556298843, 0.26804621059968187, 1.4195384247802532)"
            ]
          },
          "metadata": {
            "tags": []
          },
          "execution_count": 56
        }
      ]
    },
    {
      "cell_type": "code",
      "metadata": {
        "id": "LiNu-6w0vZc5",
        "colab_type": "code",
        "outputId": "3ce620d4-5886-4533-b6b2-ae7086ebd922",
        "colab": {
          "base_uri": "https://localhost:8080/",
          "height": 34
        }
      },
      "source": [
        "0.15934+0.29403+0.21683+0.3298"
      ],
      "execution_count": 0,
      "outputs": [
        {
          "output_type": "execute_result",
          "data": {
            "text/plain": [
              "1.0"
            ]
          },
          "metadata": {
            "tags": []
          },
          "execution_count": 59
        }
      ]
    },
    {
      "cell_type": "code",
      "metadata": {
        "id": "Knv2G0yLvfFV",
        "colab_type": "code",
        "outputId": "cef335fb-fd52-42c3-c52a-ae7e0d611703",
        "colab": {
          "base_uri": "https://localhost:8080/",
          "height": 50
        }
      },
      "source": [
        "# Get the discrete allocation of each share per stock\n",
        "from pypfopt.discrete_allocation import DiscreteAllocation, get_latest_prices\n",
        "latest_prices = get_latest_prices(df)\n",
        "weights = clean_weights\n",
        "da = DiscreteAllocation(weights, latest_prices, total_portfolio_value = 1500000)\n",
        "\n",
        "allocation , leftover = da.lp_portfolio()\n",
        "print('Discrete allocation: ' , allocation)\n",
        "\n",
        "print('Funds remaining: ${:.2f}'.format(leftover))\n"
      ],
      "execution_count": 0,
      "outputs": [
        {
          "output_type": "stream",
          "text": [
            "Discrete allocation:  {'FB': 1046.0, 'AMZN': 173.0, 'AAPL': 960.0, 'NFLX': 1184.0}\n",
            "Funds remaining: $373.98\n"
          ],
          "name": "stdout"
        }
      ]
    }
  ]
}